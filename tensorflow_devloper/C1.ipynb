{
  "nbformat": 4,
  "nbformat_minor": 0,
  "metadata": {
    "colab": {
      "provenance": [],
      "authorship_tag": "ABX9TyPZwB3cBoHuwLLVRKc/aiNv",
      "include_colab_link": true
    },
    "kernelspec": {
      "name": "python3",
      "display_name": "Python 3"
    },
    "language_info": {
      "name": "python"
    }
  },
  "cells": [
    {
      "cell_type": "markdown",
      "metadata": {
        "id": "view-in-github",
        "colab_type": "text"
      },
      "source": [
        "<a href=\"https://colab.research.google.com/github/Pahan99/coursera/blob/main/tensorflow_devloper/C1.ipynb\" target=\"_parent\"><img src=\"https://colab.research.google.com/assets/colab-badge.svg\" alt=\"Open In Colab\"/></a>"
      ]
    },
    {
      "cell_type": "markdown",
      "source": [
        "# Introduction"
      ],
      "metadata": {
        "id": "DTEwuE9MCsUC"
      }
    },
    {
      "cell_type": "code",
      "execution_count": 15,
      "metadata": {
        "id": "IEmQbKLT_V4o"
      },
      "outputs": [],
      "source": [
        "import tensorflow as tf\n",
        "import numpy as np"
      ]
    },
    {
      "cell_type": "code",
      "source": [
        "from tensorflow.keras import Sequential\n",
        "from tensorflow.keras.layers import Dense"
      ],
      "metadata": {
        "id": "OwPzHHrADPYP"
      },
      "execution_count": 11,
      "outputs": []
    },
    {
      "cell_type": "code",
      "source": [
        "model = Sequential([\n",
        "    Dense(units=1, input_shape=[1])\n",
        "])\n",
        "model.summary()"
      ],
      "metadata": {
        "colab": {
          "base_uri": "https://localhost:8080/"
        },
        "id": "75vBRjZW_b38",
        "outputId": "3db5d1cb-54fb-4dba-8baf-61cb6869e9f8"
      },
      "execution_count": 12,
      "outputs": [
        {
          "output_type": "stream",
          "name": "stdout",
          "text": [
            "Model: \"sequential\"\n",
            "_________________________________________________________________\n",
            " Layer (type)                Output Shape              Param #   \n",
            "=================================================================\n",
            " dense (Dense)               (None, 1)                 2         \n",
            "                                                                 \n",
            "=================================================================\n",
            "Total params: 2\n",
            "Trainable params: 2\n",
            "Non-trainable params: 0\n",
            "_________________________________________________________________\n"
          ]
        }
      ]
    },
    {
      "cell_type": "code",
      "source": [
        "model.compile(optimizer='sgd',loss='mean_squared_error')"
      ],
      "metadata": {
        "id": "axPPrg_fErCd"
      },
      "execution_count": 13,
      "outputs": []
    },
    {
      "cell_type": "markdown",
      "source": [
        "* `loss` is calculated and given to `optimizer` to figure out the next guess."
      ],
      "metadata": {
        "id": "QnijOsPhE1OA"
      }
    },
    {
      "cell_type": "code",
      "source": [
        "X = np.array([x for x in range(-1,5)],dtype=float)\n",
        "y = np.array([2*x-1 for x in X],dtype=float)\n",
        "X,y"
      ],
      "metadata": {
        "colab": {
          "base_uri": "https://localhost:8080/"
        },
        "id": "QP5o17UpFP9f",
        "outputId": "a7a37717-6443-404e-8afd-fa2e2fbb5dbc"
      },
      "execution_count": 16,
      "outputs": [
        {
          "output_type": "execute_result",
          "data": {
            "text/plain": [
              "(array([-1.,  0.,  1.,  2.,  3.,  4.]), array([-3., -1.,  1.,  3.,  5.,  7.]))"
            ]
          },
          "metadata": {},
          "execution_count": 16
        }
      ]
    },
    {
      "cell_type": "code",
      "source": [
        "model.fit(X,y,epochs=100)"
      ],
      "metadata": {
        "colab": {
          "base_uri": "https://localhost:8080/"
        },
        "id": "_dJ-ibDmFl4Y",
        "outputId": "98361d3e-ec97-432f-b305-8013e59ef758"
      },
      "execution_count": 25,
      "outputs": [
        {
          "output_type": "stream",
          "name": "stdout",
          "text": [
            "Epoch 1/100\n",
            "1/1 [==============================] - 0s 9ms/step - loss: 3.3409e-04\n",
            "Epoch 2/100\n",
            "1/1 [==============================] - 0s 9ms/step - loss: 3.2723e-04\n",
            "Epoch 3/100\n",
            "1/1 [==============================] - 0s 10ms/step - loss: 3.2050e-04\n",
            "Epoch 4/100\n",
            "1/1 [==============================] - 0s 9ms/step - loss: 3.1392e-04\n",
            "Epoch 5/100\n",
            "1/1 [==============================] - 0s 9ms/step - loss: 3.0747e-04\n",
            "Epoch 6/100\n",
            "1/1 [==============================] - 0s 9ms/step - loss: 3.0116e-04\n",
            "Epoch 7/100\n",
            "1/1 [==============================] - 0s 8ms/step - loss: 2.9497e-04\n",
            "Epoch 8/100\n",
            "1/1 [==============================] - 0s 9ms/step - loss: 2.8891e-04\n",
            "Epoch 9/100\n",
            "1/1 [==============================] - 0s 7ms/step - loss: 2.8298e-04\n",
            "Epoch 10/100\n",
            "1/1 [==============================] - 0s 7ms/step - loss: 2.7716e-04\n",
            "Epoch 11/100\n",
            "1/1 [==============================] - 0s 6ms/step - loss: 2.7147e-04\n",
            "Epoch 12/100\n",
            "1/1 [==============================] - 0s 9ms/step - loss: 2.6590e-04\n",
            "Epoch 13/100\n",
            "1/1 [==============================] - 0s 9ms/step - loss: 2.6044e-04\n",
            "Epoch 14/100\n",
            "1/1 [==============================] - 0s 8ms/step - loss: 2.5508e-04\n",
            "Epoch 15/100\n",
            "1/1 [==============================] - 0s 8ms/step - loss: 2.4985e-04\n",
            "Epoch 16/100\n",
            "1/1 [==============================] - 0s 7ms/step - loss: 2.4471e-04\n",
            "Epoch 17/100\n",
            "1/1 [==============================] - 0s 7ms/step - loss: 2.3969e-04\n",
            "Epoch 18/100\n",
            "1/1 [==============================] - 0s 7ms/step - loss: 2.3476e-04\n",
            "Epoch 19/100\n",
            "1/1 [==============================] - 0s 7ms/step - loss: 2.2994e-04\n",
            "Epoch 20/100\n",
            "1/1 [==============================] - 0s 6ms/step - loss: 2.2522e-04\n",
            "Epoch 21/100\n",
            "1/1 [==============================] - 0s 6ms/step - loss: 2.2059e-04\n",
            "Epoch 22/100\n",
            "1/1 [==============================] - 0s 8ms/step - loss: 2.1606e-04\n",
            "Epoch 23/100\n",
            "1/1 [==============================] - 0s 7ms/step - loss: 2.1162e-04\n",
            "Epoch 24/100\n",
            "1/1 [==============================] - 0s 8ms/step - loss: 2.0728e-04\n",
            "Epoch 25/100\n",
            "1/1 [==============================] - 0s 6ms/step - loss: 2.0302e-04\n",
            "Epoch 26/100\n",
            "1/1 [==============================] - 0s 9ms/step - loss: 1.9885e-04\n",
            "Epoch 27/100\n",
            "1/1 [==============================] - 0s 10ms/step - loss: 1.9477e-04\n",
            "Epoch 28/100\n",
            "1/1 [==============================] - 0s 8ms/step - loss: 1.9076e-04\n",
            "Epoch 29/100\n",
            "1/1 [==============================] - 0s 11ms/step - loss: 1.8685e-04\n",
            "Epoch 30/100\n",
            "1/1 [==============================] - 0s 6ms/step - loss: 1.8301e-04\n",
            "Epoch 31/100\n",
            "1/1 [==============================] - 0s 6ms/step - loss: 1.7925e-04\n",
            "Epoch 32/100\n",
            "1/1 [==============================] - 0s 9ms/step - loss: 1.7557e-04\n",
            "Epoch 33/100\n",
            "1/1 [==============================] - 0s 6ms/step - loss: 1.7196e-04\n",
            "Epoch 34/100\n",
            "1/1 [==============================] - 0s 7ms/step - loss: 1.6843e-04\n",
            "Epoch 35/100\n",
            "1/1 [==============================] - 0s 6ms/step - loss: 1.6497e-04\n",
            "Epoch 36/100\n",
            "1/1 [==============================] - 0s 6ms/step - loss: 1.6158e-04\n",
            "Epoch 37/100\n",
            "1/1 [==============================] - 0s 8ms/step - loss: 1.5826e-04\n",
            "Epoch 38/100\n",
            "1/1 [==============================] - 0s 8ms/step - loss: 1.5501e-04\n",
            "Epoch 39/100\n",
            "1/1 [==============================] - 0s 6ms/step - loss: 1.5183e-04\n",
            "Epoch 40/100\n",
            "1/1 [==============================] - 0s 8ms/step - loss: 1.4871e-04\n",
            "Epoch 41/100\n",
            "1/1 [==============================] - 0s 7ms/step - loss: 1.4565e-04\n",
            "Epoch 42/100\n",
            "1/1 [==============================] - 0s 7ms/step - loss: 1.4266e-04\n",
            "Epoch 43/100\n",
            "1/1 [==============================] - 0s 6ms/step - loss: 1.3973e-04\n",
            "Epoch 44/100\n",
            "1/1 [==============================] - 0s 7ms/step - loss: 1.3686e-04\n",
            "Epoch 45/100\n",
            "1/1 [==============================] - 0s 6ms/step - loss: 1.3405e-04\n",
            "Epoch 46/100\n",
            "1/1 [==============================] - 0s 6ms/step - loss: 1.3130e-04\n",
            "Epoch 47/100\n",
            "1/1 [==============================] - 0s 7ms/step - loss: 1.2860e-04\n",
            "Epoch 48/100\n",
            "1/1 [==============================] - 0s 7ms/step - loss: 1.2596e-04\n",
            "Epoch 49/100\n",
            "1/1 [==============================] - 0s 6ms/step - loss: 1.2337e-04\n",
            "Epoch 50/100\n",
            "1/1 [==============================] - 0s 9ms/step - loss: 1.2084e-04\n",
            "Epoch 51/100\n",
            "1/1 [==============================] - 0s 6ms/step - loss: 1.1836e-04\n",
            "Epoch 52/100\n",
            "1/1 [==============================] - 0s 6ms/step - loss: 1.1592e-04\n",
            "Epoch 53/100\n",
            "1/1 [==============================] - 0s 6ms/step - loss: 1.1354e-04\n",
            "Epoch 54/100\n",
            "1/1 [==============================] - 0s 6ms/step - loss: 1.1121e-04\n",
            "Epoch 55/100\n",
            "1/1 [==============================] - 0s 7ms/step - loss: 1.0893e-04\n",
            "Epoch 56/100\n",
            "1/1 [==============================] - 0s 6ms/step - loss: 1.0669e-04\n",
            "Epoch 57/100\n",
            "1/1 [==============================] - 0s 8ms/step - loss: 1.0450e-04\n",
            "Epoch 58/100\n",
            "1/1 [==============================] - 0s 7ms/step - loss: 1.0235e-04\n",
            "Epoch 59/100\n",
            "1/1 [==============================] - 0s 7ms/step - loss: 1.0025e-04\n",
            "Epoch 60/100\n",
            "1/1 [==============================] - 0s 6ms/step - loss: 9.8190e-05\n",
            "Epoch 61/100\n",
            "1/1 [==============================] - 0s 11ms/step - loss: 9.6173e-05\n",
            "Epoch 62/100\n",
            "1/1 [==============================] - 0s 6ms/step - loss: 9.4198e-05\n",
            "Epoch 63/100\n",
            "1/1 [==============================] - 0s 9ms/step - loss: 9.2263e-05\n",
            "Epoch 64/100\n",
            "1/1 [==============================] - 0s 8ms/step - loss: 9.0368e-05\n",
            "Epoch 65/100\n",
            "1/1 [==============================] - 0s 9ms/step - loss: 8.8511e-05\n",
            "Epoch 66/100\n",
            "1/1 [==============================] - 0s 8ms/step - loss: 8.6695e-05\n",
            "Epoch 67/100\n",
            "1/1 [==============================] - 0s 14ms/step - loss: 8.4913e-05\n",
            "Epoch 68/100\n",
            "1/1 [==============================] - 0s 12ms/step - loss: 8.3169e-05\n",
            "Epoch 69/100\n",
            "1/1 [==============================] - 0s 7ms/step - loss: 8.1462e-05\n",
            "Epoch 70/100\n",
            "1/1 [==============================] - 0s 6ms/step - loss: 7.9788e-05\n",
            "Epoch 71/100\n",
            "1/1 [==============================] - 0s 6ms/step - loss: 7.8149e-05\n",
            "Epoch 72/100\n",
            "1/1 [==============================] - 0s 9ms/step - loss: 7.6545e-05\n",
            "Epoch 73/100\n",
            "1/1 [==============================] - 0s 6ms/step - loss: 7.4972e-05\n",
            "Epoch 74/100\n",
            "1/1 [==============================] - 0s 6ms/step - loss: 7.3431e-05\n",
            "Epoch 75/100\n",
            "1/1 [==============================] - 0s 7ms/step - loss: 7.1923e-05\n",
            "Epoch 76/100\n",
            "1/1 [==============================] - 0s 7ms/step - loss: 7.0446e-05\n",
            "Epoch 77/100\n",
            "1/1 [==============================] - 0s 6ms/step - loss: 6.8999e-05\n",
            "Epoch 78/100\n",
            "1/1 [==============================] - 0s 6ms/step - loss: 6.7582e-05\n",
            "Epoch 79/100\n",
            "1/1 [==============================] - 0s 5ms/step - loss: 6.6193e-05\n",
            "Epoch 80/100\n",
            "1/1 [==============================] - 0s 5ms/step - loss: 6.4834e-05\n",
            "Epoch 81/100\n",
            "1/1 [==============================] - 0s 6ms/step - loss: 6.3501e-05\n",
            "Epoch 82/100\n",
            "1/1 [==============================] - 0s 5ms/step - loss: 6.2198e-05\n",
            "Epoch 83/100\n",
            "1/1 [==============================] - 0s 5ms/step - loss: 6.0921e-05\n",
            "Epoch 84/100\n",
            "1/1 [==============================] - 0s 5ms/step - loss: 5.9668e-05\n",
            "Epoch 85/100\n",
            "1/1 [==============================] - 0s 6ms/step - loss: 5.8443e-05\n",
            "Epoch 86/100\n",
            "1/1 [==============================] - 0s 6ms/step - loss: 5.7243e-05\n",
            "Epoch 87/100\n",
            "1/1 [==============================] - 0s 6ms/step - loss: 5.6067e-05\n",
            "Epoch 88/100\n",
            "1/1 [==============================] - 0s 7ms/step - loss: 5.4915e-05\n",
            "Epoch 89/100\n",
            "1/1 [==============================] - 0s 8ms/step - loss: 5.3787e-05\n",
            "Epoch 90/100\n",
            "1/1 [==============================] - 0s 5ms/step - loss: 5.2682e-05\n",
            "Epoch 91/100\n",
            "1/1 [==============================] - 0s 6ms/step - loss: 5.1600e-05\n",
            "Epoch 92/100\n",
            "1/1 [==============================] - 0s 5ms/step - loss: 5.0540e-05\n",
            "Epoch 93/100\n",
            "1/1 [==============================] - 0s 6ms/step - loss: 4.9502e-05\n",
            "Epoch 94/100\n",
            "1/1 [==============================] - 0s 6ms/step - loss: 4.8485e-05\n",
            "Epoch 95/100\n",
            "1/1 [==============================] - 0s 5ms/step - loss: 4.7490e-05\n",
            "Epoch 96/100\n",
            "1/1 [==============================] - 0s 6ms/step - loss: 4.6514e-05\n",
            "Epoch 97/100\n",
            "1/1 [==============================] - 0s 6ms/step - loss: 4.5559e-05\n",
            "Epoch 98/100\n",
            "1/1 [==============================] - 0s 5ms/step - loss: 4.4623e-05\n",
            "Epoch 99/100\n",
            "1/1 [==============================] - 0s 6ms/step - loss: 4.3706e-05\n",
            "Epoch 100/100\n",
            "1/1 [==============================] - 0s 5ms/step - loss: 4.2808e-05\n"
          ]
        },
        {
          "output_type": "execute_result",
          "data": {
            "text/plain": [
              "<keras.callbacks.History at 0x7a3eb01f7310>"
            ]
          },
          "metadata": {},
          "execution_count": 25
        }
      ]
    },
    {
      "cell_type": "code",
      "source": [
        "model.predict([10])"
      ],
      "metadata": {
        "colab": {
          "base_uri": "https://localhost:8080/"
        },
        "id": "6-lTJuVaF1II",
        "outputId": "c81b6fdb-307a-4625-94e5-1bd0f26b7b60"
      },
      "execution_count": 26,
      "outputs": [
        {
          "output_type": "stream",
          "name": "stdout",
          "text": [
            "1/1 [==============================] - 0s 62ms/step\n"
          ]
        },
        {
          "output_type": "execute_result",
          "data": {
            "text/plain": [
              "array([[18.980911]], dtype=float32)"
            ]
          },
          "metadata": {},
          "execution_count": 26
        }
      ]
    }
  ]
}