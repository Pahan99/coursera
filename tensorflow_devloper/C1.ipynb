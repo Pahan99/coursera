{
  "nbformat": 4,
  "nbformat_minor": 0,
  "metadata": {
    "colab": {
      "provenance": [],
      "authorship_tag": "ABX9TyPAj0t65Uf5PEt/bbWBnM6d"
    },
    "kernelspec": {
      "name": "python3",
      "display_name": "Python 3"
    },
    "language_info": {
      "name": "python"
    }
  },
  "cells": [
    {
      "cell_type": "markdown",
      "source": [
        "https://github.com/Pahan99/coursera/tensorflow_devloper/C1.ipynb"
      ],
      "metadata": {
        "id": "2wtzEpsVJENp"
      }
    },
    {
      "cell_type": "code",
      "execution_count": 1,
      "metadata": {
        "id": "IEmQbKLT_V4o"
      },
      "outputs": [],
      "source": [
        "import tensorflow as tf\n",
        "import numpy as np"
      ]
    },
    {
      "cell_type": "code",
      "source": [
        "from tensorflow.keras import Sequential\n",
        "from tensorflow.keras.layers import Dense,Flatten,Conv2D,MaxPooling2D"
      ],
      "metadata": {
        "id": "OwPzHHrADPYP"
      },
      "execution_count": 2,
      "outputs": []
    },
    {
      "cell_type": "markdown",
      "source": [
        "# Introduction"
      ],
      "metadata": {
        "id": "DTEwuE9MCsUC"
      }
    },
    {
      "cell_type": "code",
      "source": [
        "model = Sequential([\n",
        "    Dense(units=1, input_shape=[1])\n",
        "])\n",
        "model.summary()"
      ],
      "metadata": {
        "colab": {
          "base_uri": "https://localhost:8080/"
        },
        "id": "75vBRjZW_b38",
        "outputId": "3db5d1cb-54fb-4dba-8baf-61cb6869e9f8"
      },
      "execution_count": null,
      "outputs": [
        {
          "output_type": "stream",
          "name": "stdout",
          "text": [
            "Model: \"sequential\"\n",
            "_________________________________________________________________\n",
            " Layer (type)                Output Shape              Param #   \n",
            "=================================================================\n",
            " dense (Dense)               (None, 1)                 2         \n",
            "                                                                 \n",
            "=================================================================\n",
            "Total params: 2\n",
            "Trainable params: 2\n",
            "Non-trainable params: 0\n",
            "_________________________________________________________________\n"
          ]
        }
      ]
    },
    {
      "cell_type": "code",
      "source": [
        "model.compile(optimizer='sgd',loss='mean_squared_error')"
      ],
      "metadata": {
        "id": "axPPrg_fErCd"
      },
      "execution_count": null,
      "outputs": []
    },
    {
      "cell_type": "markdown",
      "source": [
        "* `loss` is calculated and given to `optimizer` to figure out the next guess."
      ],
      "metadata": {
        "id": "QnijOsPhE1OA"
      }
    },
    {
      "cell_type": "code",
      "source": [
        "X = np.array([x for x in range(-1,5)],dtype=float)\n",
        "y = np.array([2*x-1 for x in X],dtype=float)\n",
        "X,y"
      ],
      "metadata": {
        "colab": {
          "base_uri": "https://localhost:8080/"
        },
        "id": "QP5o17UpFP9f",
        "outputId": "a7a37717-6443-404e-8afd-fa2e2fbb5dbc"
      },
      "execution_count": null,
      "outputs": [
        {
          "output_type": "execute_result",
          "data": {
            "text/plain": [
              "(array([-1.,  0.,  1.,  2.,  3.,  4.]), array([-3., -1.,  1.,  3.,  5.,  7.]))"
            ]
          },
          "metadata": {},
          "execution_count": 16
        }
      ]
    },
    {
      "cell_type": "code",
      "source": [
        "model.fit(X,y,epochs=100)"
      ],
      "metadata": {
        "colab": {
          "base_uri": "https://localhost:8080/"
        },
        "id": "_dJ-ibDmFl4Y",
        "outputId": "98361d3e-ec97-432f-b305-8013e59ef758"
      },
      "execution_count": null,
      "outputs": [
        {
          "output_type": "stream",
          "name": "stdout",
          "text": [
            "Epoch 1/100\n",
            "1/1 [==============================] - 0s 9ms/step - loss: 3.3409e-04\n",
            "Epoch 2/100\n",
            "1/1 [==============================] - 0s 9ms/step - loss: 3.2723e-04\n",
            "Epoch 3/100\n",
            "1/1 [==============================] - 0s 10ms/step - loss: 3.2050e-04\n",
            "Epoch 4/100\n",
            "1/1 [==============================] - 0s 9ms/step - loss: 3.1392e-04\n",
            "Epoch 5/100\n",
            "1/1 [==============================] - 0s 9ms/step - loss: 3.0747e-04\n",
            "Epoch 6/100\n",
            "1/1 [==============================] - 0s 9ms/step - loss: 3.0116e-04\n",
            "Epoch 7/100\n",
            "1/1 [==============================] - 0s 8ms/step - loss: 2.9497e-04\n",
            "Epoch 8/100\n",
            "1/1 [==============================] - 0s 9ms/step - loss: 2.8891e-04\n",
            "Epoch 9/100\n",
            "1/1 [==============================] - 0s 7ms/step - loss: 2.8298e-04\n",
            "Epoch 10/100\n",
            "1/1 [==============================] - 0s 7ms/step - loss: 2.7716e-04\n",
            "Epoch 11/100\n",
            "1/1 [==============================] - 0s 6ms/step - loss: 2.7147e-04\n",
            "Epoch 12/100\n",
            "1/1 [==============================] - 0s 9ms/step - loss: 2.6590e-04\n",
            "Epoch 13/100\n",
            "1/1 [==============================] - 0s 9ms/step - loss: 2.6044e-04\n",
            "Epoch 14/100\n",
            "1/1 [==============================] - 0s 8ms/step - loss: 2.5508e-04\n",
            "Epoch 15/100\n",
            "1/1 [==============================] - 0s 8ms/step - loss: 2.4985e-04\n",
            "Epoch 16/100\n",
            "1/1 [==============================] - 0s 7ms/step - loss: 2.4471e-04\n",
            "Epoch 17/100\n",
            "1/1 [==============================] - 0s 7ms/step - loss: 2.3969e-04\n",
            "Epoch 18/100\n",
            "1/1 [==============================] - 0s 7ms/step - loss: 2.3476e-04\n",
            "Epoch 19/100\n",
            "1/1 [==============================] - 0s 7ms/step - loss: 2.2994e-04\n",
            "Epoch 20/100\n",
            "1/1 [==============================] - 0s 6ms/step - loss: 2.2522e-04\n",
            "Epoch 21/100\n",
            "1/1 [==============================] - 0s 6ms/step - loss: 2.2059e-04\n",
            "Epoch 22/100\n",
            "1/1 [==============================] - 0s 8ms/step - loss: 2.1606e-04\n",
            "Epoch 23/100\n",
            "1/1 [==============================] - 0s 7ms/step - loss: 2.1162e-04\n",
            "Epoch 24/100\n",
            "1/1 [==============================] - 0s 8ms/step - loss: 2.0728e-04\n",
            "Epoch 25/100\n",
            "1/1 [==============================] - 0s 6ms/step - loss: 2.0302e-04\n",
            "Epoch 26/100\n",
            "1/1 [==============================] - 0s 9ms/step - loss: 1.9885e-04\n",
            "Epoch 27/100\n",
            "1/1 [==============================] - 0s 10ms/step - loss: 1.9477e-04\n",
            "Epoch 28/100\n",
            "1/1 [==============================] - 0s 8ms/step - loss: 1.9076e-04\n",
            "Epoch 29/100\n",
            "1/1 [==============================] - 0s 11ms/step - loss: 1.8685e-04\n",
            "Epoch 30/100\n",
            "1/1 [==============================] - 0s 6ms/step - loss: 1.8301e-04\n",
            "Epoch 31/100\n",
            "1/1 [==============================] - 0s 6ms/step - loss: 1.7925e-04\n",
            "Epoch 32/100\n",
            "1/1 [==============================] - 0s 9ms/step - loss: 1.7557e-04\n",
            "Epoch 33/100\n",
            "1/1 [==============================] - 0s 6ms/step - loss: 1.7196e-04\n",
            "Epoch 34/100\n",
            "1/1 [==============================] - 0s 7ms/step - loss: 1.6843e-04\n",
            "Epoch 35/100\n",
            "1/1 [==============================] - 0s 6ms/step - loss: 1.6497e-04\n",
            "Epoch 36/100\n",
            "1/1 [==============================] - 0s 6ms/step - loss: 1.6158e-04\n",
            "Epoch 37/100\n",
            "1/1 [==============================] - 0s 8ms/step - loss: 1.5826e-04\n",
            "Epoch 38/100\n",
            "1/1 [==============================] - 0s 8ms/step - loss: 1.5501e-04\n",
            "Epoch 39/100\n",
            "1/1 [==============================] - 0s 6ms/step - loss: 1.5183e-04\n",
            "Epoch 40/100\n",
            "1/1 [==============================] - 0s 8ms/step - loss: 1.4871e-04\n",
            "Epoch 41/100\n",
            "1/1 [==============================] - 0s 7ms/step - loss: 1.4565e-04\n",
            "Epoch 42/100\n",
            "1/1 [==============================] - 0s 7ms/step - loss: 1.4266e-04\n",
            "Epoch 43/100\n",
            "1/1 [==============================] - 0s 6ms/step - loss: 1.3973e-04\n",
            "Epoch 44/100\n",
            "1/1 [==============================] - 0s 7ms/step - loss: 1.3686e-04\n",
            "Epoch 45/100\n",
            "1/1 [==============================] - 0s 6ms/step - loss: 1.3405e-04\n",
            "Epoch 46/100\n",
            "1/1 [==============================] - 0s 6ms/step - loss: 1.3130e-04\n",
            "Epoch 47/100\n",
            "1/1 [==============================] - 0s 7ms/step - loss: 1.2860e-04\n",
            "Epoch 48/100\n",
            "1/1 [==============================] - 0s 7ms/step - loss: 1.2596e-04\n",
            "Epoch 49/100\n",
            "1/1 [==============================] - 0s 6ms/step - loss: 1.2337e-04\n",
            "Epoch 50/100\n",
            "1/1 [==============================] - 0s 9ms/step - loss: 1.2084e-04\n",
            "Epoch 51/100\n",
            "1/1 [==============================] - 0s 6ms/step - loss: 1.1836e-04\n",
            "Epoch 52/100\n",
            "1/1 [==============================] - 0s 6ms/step - loss: 1.1592e-04\n",
            "Epoch 53/100\n",
            "1/1 [==============================] - 0s 6ms/step - loss: 1.1354e-04\n",
            "Epoch 54/100\n",
            "1/1 [==============================] - 0s 6ms/step - loss: 1.1121e-04\n",
            "Epoch 55/100\n",
            "1/1 [==============================] - 0s 7ms/step - loss: 1.0893e-04\n",
            "Epoch 56/100\n",
            "1/1 [==============================] - 0s 6ms/step - loss: 1.0669e-04\n",
            "Epoch 57/100\n",
            "1/1 [==============================] - 0s 8ms/step - loss: 1.0450e-04\n",
            "Epoch 58/100\n",
            "1/1 [==============================] - 0s 7ms/step - loss: 1.0235e-04\n",
            "Epoch 59/100\n",
            "1/1 [==============================] - 0s 7ms/step - loss: 1.0025e-04\n",
            "Epoch 60/100\n",
            "1/1 [==============================] - 0s 6ms/step - loss: 9.8190e-05\n",
            "Epoch 61/100\n",
            "1/1 [==============================] - 0s 11ms/step - loss: 9.6173e-05\n",
            "Epoch 62/100\n",
            "1/1 [==============================] - 0s 6ms/step - loss: 9.4198e-05\n",
            "Epoch 63/100\n",
            "1/1 [==============================] - 0s 9ms/step - loss: 9.2263e-05\n",
            "Epoch 64/100\n",
            "1/1 [==============================] - 0s 8ms/step - loss: 9.0368e-05\n",
            "Epoch 65/100\n",
            "1/1 [==============================] - 0s 9ms/step - loss: 8.8511e-05\n",
            "Epoch 66/100\n",
            "1/1 [==============================] - 0s 8ms/step - loss: 8.6695e-05\n",
            "Epoch 67/100\n",
            "1/1 [==============================] - 0s 14ms/step - loss: 8.4913e-05\n",
            "Epoch 68/100\n",
            "1/1 [==============================] - 0s 12ms/step - loss: 8.3169e-05\n",
            "Epoch 69/100\n",
            "1/1 [==============================] - 0s 7ms/step - loss: 8.1462e-05\n",
            "Epoch 70/100\n",
            "1/1 [==============================] - 0s 6ms/step - loss: 7.9788e-05\n",
            "Epoch 71/100\n",
            "1/1 [==============================] - 0s 6ms/step - loss: 7.8149e-05\n",
            "Epoch 72/100\n",
            "1/1 [==============================] - 0s 9ms/step - loss: 7.6545e-05\n",
            "Epoch 73/100\n",
            "1/1 [==============================] - 0s 6ms/step - loss: 7.4972e-05\n",
            "Epoch 74/100\n",
            "1/1 [==============================] - 0s 6ms/step - loss: 7.3431e-05\n",
            "Epoch 75/100\n",
            "1/1 [==============================] - 0s 7ms/step - loss: 7.1923e-05\n",
            "Epoch 76/100\n",
            "1/1 [==============================] - 0s 7ms/step - loss: 7.0446e-05\n",
            "Epoch 77/100\n",
            "1/1 [==============================] - 0s 6ms/step - loss: 6.8999e-05\n",
            "Epoch 78/100\n",
            "1/1 [==============================] - 0s 6ms/step - loss: 6.7582e-05\n",
            "Epoch 79/100\n",
            "1/1 [==============================] - 0s 5ms/step - loss: 6.6193e-05\n",
            "Epoch 80/100\n",
            "1/1 [==============================] - 0s 5ms/step - loss: 6.4834e-05\n",
            "Epoch 81/100\n",
            "1/1 [==============================] - 0s 6ms/step - loss: 6.3501e-05\n",
            "Epoch 82/100\n",
            "1/1 [==============================] - 0s 5ms/step - loss: 6.2198e-05\n",
            "Epoch 83/100\n",
            "1/1 [==============================] - 0s 5ms/step - loss: 6.0921e-05\n",
            "Epoch 84/100\n",
            "1/1 [==============================] - 0s 5ms/step - loss: 5.9668e-05\n",
            "Epoch 85/100\n",
            "1/1 [==============================] - 0s 6ms/step - loss: 5.8443e-05\n",
            "Epoch 86/100\n",
            "1/1 [==============================] - 0s 6ms/step - loss: 5.7243e-05\n",
            "Epoch 87/100\n",
            "1/1 [==============================] - 0s 6ms/step - loss: 5.6067e-05\n",
            "Epoch 88/100\n",
            "1/1 [==============================] - 0s 7ms/step - loss: 5.4915e-05\n",
            "Epoch 89/100\n",
            "1/1 [==============================] - 0s 8ms/step - loss: 5.3787e-05\n",
            "Epoch 90/100\n",
            "1/1 [==============================] - 0s 5ms/step - loss: 5.2682e-05\n",
            "Epoch 91/100\n",
            "1/1 [==============================] - 0s 6ms/step - loss: 5.1600e-05\n",
            "Epoch 92/100\n",
            "1/1 [==============================] - 0s 5ms/step - loss: 5.0540e-05\n",
            "Epoch 93/100\n",
            "1/1 [==============================] - 0s 6ms/step - loss: 4.9502e-05\n",
            "Epoch 94/100\n",
            "1/1 [==============================] - 0s 6ms/step - loss: 4.8485e-05\n",
            "Epoch 95/100\n",
            "1/1 [==============================] - 0s 5ms/step - loss: 4.7490e-05\n",
            "Epoch 96/100\n",
            "1/1 [==============================] - 0s 6ms/step - loss: 4.6514e-05\n",
            "Epoch 97/100\n",
            "1/1 [==============================] - 0s 6ms/step - loss: 4.5559e-05\n",
            "Epoch 98/100\n",
            "1/1 [==============================] - 0s 5ms/step - loss: 4.4623e-05\n",
            "Epoch 99/100\n",
            "1/1 [==============================] - 0s 6ms/step - loss: 4.3706e-05\n",
            "Epoch 100/100\n",
            "1/1 [==============================] - 0s 5ms/step - loss: 4.2808e-05\n"
          ]
        },
        {
          "output_type": "execute_result",
          "data": {
            "text/plain": [
              "<keras.callbacks.History at 0x7a3eb01f7310>"
            ]
          },
          "metadata": {},
          "execution_count": 25
        }
      ]
    },
    {
      "cell_type": "code",
      "source": [
        "model.predict([10])"
      ],
      "metadata": {
        "colab": {
          "base_uri": "https://localhost:8080/"
        },
        "id": "6-lTJuVaF1II",
        "outputId": "c81b6fdb-307a-4625-94e5-1bd0f26b7b60"
      },
      "execution_count": null,
      "outputs": [
        {
          "output_type": "stream",
          "name": "stdout",
          "text": [
            "1/1 [==============================] - 0s 62ms/step\n"
          ]
        },
        {
          "output_type": "execute_result",
          "data": {
            "text/plain": [
              "array([[18.980911]], dtype=float32)"
            ]
          },
          "metadata": {},
          "execution_count": 26
        }
      ]
    },
    {
      "cell_type": "markdown",
      "source": [
        "# Introduction to Computer Vision"
      ],
      "metadata": {
        "id": "NIn5pGmmSAW1"
      }
    },
    {
      "cell_type": "code",
      "source": [
        "fashion_mnist = tf.keras.datasets.fashion_mnist\n",
        "(X_train, y_train), (X_test, y_test) = fashion_mnist.load_data()\n",
        "\n",
        "X_train.shape, X_test.shape"
      ],
      "metadata": {
        "colab": {
          "base_uri": "https://localhost:8080/"
        },
        "id": "s1SzTG05SFkW",
        "outputId": "20b9b825-b3d8-4eff-e8ae-4963f8e1e02d"
      },
      "execution_count": 3,
      "outputs": [
        {
          "output_type": "stream",
          "name": "stdout",
          "text": [
            "Downloading data from https://storage.googleapis.com/tensorflow/tf-keras-datasets/train-labels-idx1-ubyte.gz\n",
            "29515/29515 [==============================] - 0s 0us/step\n",
            "Downloading data from https://storage.googleapis.com/tensorflow/tf-keras-datasets/train-images-idx3-ubyte.gz\n",
            "26421880/26421880 [==============================] - 0s 0us/step\n",
            "Downloading data from https://storage.googleapis.com/tensorflow/tf-keras-datasets/t10k-labels-idx1-ubyte.gz\n",
            "5148/5148 [==============================] - 0s 0us/step\n",
            "Downloading data from https://storage.googleapis.com/tensorflow/tf-keras-datasets/t10k-images-idx3-ubyte.gz\n",
            "4422102/4422102 [==============================] - 0s 0us/step\n"
          ]
        },
        {
          "output_type": "execute_result",
          "data": {
            "text/plain": [
              "((60000, 28, 28), (10000, 28, 28))"
            ]
          },
          "metadata": {},
          "execution_count": 3
        }
      ]
    },
    {
      "cell_type": "code",
      "source": [
        "np.unique(y_train, return_counts=True)"
      ],
      "metadata": {
        "colab": {
          "base_uri": "https://localhost:8080/"
        },
        "id": "Zu9UoLFrSpex",
        "outputId": "627a739a-8787-4730-f979-ebe63c6bf724"
      },
      "execution_count": 4,
      "outputs": [
        {
          "output_type": "execute_result",
          "data": {
            "text/plain": [
              "(array([0, 1, 2, 3, 4, 5, 6, 7, 8, 9], dtype=uint8),\n",
              " array([6000, 6000, 6000, 6000, 6000, 6000, 6000, 6000, 6000, 6000]))"
            ]
          },
          "metadata": {},
          "execution_count": 4
        }
      ]
    },
    {
      "cell_type": "markdown",
      "source": [
        "* Output has to contain 10 units."
      ],
      "metadata": {
        "id": "y8X5gg25TLHZ"
      }
    },
    {
      "cell_type": "code",
      "source": [
        "model = Sequential([\n",
        "    Flatten(input_shape=(28,28)),\n",
        "    Dense(units=128,activation='relu'),\n",
        "    Dense(units=10,activation='softmax')\n",
        "])"
      ],
      "metadata": {
        "id": "AxlI88tyTQgD"
      },
      "execution_count": 5,
      "outputs": []
    },
    {
      "cell_type": "code",
      "source": [
        "model.summary()"
      ],
      "metadata": {
        "colab": {
          "base_uri": "https://localhost:8080/"
        },
        "id": "j4NMaihSTy23",
        "outputId": "e3c900b9-74b5-4cca-c165-fab4a3a80350"
      },
      "execution_count": 6,
      "outputs": [
        {
          "output_type": "stream",
          "name": "stdout",
          "text": [
            "Model: \"sequential\"\n",
            "_________________________________________________________________\n",
            " Layer (type)                Output Shape              Param #   \n",
            "=================================================================\n",
            " flatten (Flatten)           (None, 784)               0         \n",
            "                                                                 \n",
            " dense (Dense)               (None, 128)               100480    \n",
            "                                                                 \n",
            " dense_1 (Dense)             (None, 10)                1290      \n",
            "                                                                 \n",
            "=================================================================\n",
            "Total params: 101,770\n",
            "Trainable params: 101,770\n",
            "Non-trainable params: 0\n",
            "_________________________________________________________________\n"
          ]
        }
      ]
    },
    {
      "cell_type": "code",
      "source": [
        "model.compile(optimizer=tf.keras.optimizers.Adam(),\n",
        "              loss='sparse_categorical_crossentropy',\n",
        "              metrics=['accuracy'])"
      ],
      "metadata": {
        "id": "KHf5HXwXUjSR"
      },
      "execution_count": 7,
      "outputs": []
    },
    {
      "cell_type": "code",
      "source": [
        "model.fit(X_train,y_train,epochs=20)"
      ],
      "metadata": {
        "colab": {
          "base_uri": "https://localhost:8080/"
        },
        "id": "ePC877epVG-2",
        "outputId": "ad49baae-6b31-4efa-b490-4f2593ada71c"
      },
      "execution_count": 8,
      "outputs": [
        {
          "output_type": "stream",
          "name": "stdout",
          "text": [
            "Epoch 1/20\n",
            "1875/1875 [==============================] - 10s 3ms/step - loss: 3.5717 - accuracy: 0.6992\n",
            "Epoch 2/20\n",
            "1875/1875 [==============================] - 6s 3ms/step - loss: 0.6934 - accuracy: 0.7539\n",
            "Epoch 3/20\n",
            "1875/1875 [==============================] - 5s 3ms/step - loss: 0.5978 - accuracy: 0.7931\n",
            "Epoch 4/20\n",
            "1875/1875 [==============================] - 5s 3ms/step - loss: 0.5335 - accuracy: 0.8157\n",
            "Epoch 5/20\n",
            "1875/1875 [==============================] - 5s 3ms/step - loss: 0.5166 - accuracy: 0.8230\n",
            "Epoch 6/20\n",
            "1875/1875 [==============================] - 5s 3ms/step - loss: 0.4920 - accuracy: 0.8326\n",
            "Epoch 7/20\n",
            "1875/1875 [==============================] - 5s 3ms/step - loss: 0.4872 - accuracy: 0.8361\n",
            "Epoch 8/20\n",
            "1875/1875 [==============================] - 5s 3ms/step - loss: 0.4848 - accuracy: 0.8377\n",
            "Epoch 9/20\n",
            "1875/1875 [==============================] - 5s 3ms/step - loss: 0.4748 - accuracy: 0.8400\n",
            "Epoch 10/20\n",
            "1875/1875 [==============================] - 5s 3ms/step - loss: 0.4687 - accuracy: 0.8406\n",
            "Epoch 11/20\n",
            "1875/1875 [==============================] - 5s 3ms/step - loss: 0.4651 - accuracy: 0.8443\n",
            "Epoch 12/20\n",
            "1875/1875 [==============================] - 6s 3ms/step - loss: 0.4597 - accuracy: 0.8462\n",
            "Epoch 13/20\n",
            "1875/1875 [==============================] - 5s 2ms/step - loss: 0.4561 - accuracy: 0.8450\n",
            "Epoch 14/20\n",
            "1875/1875 [==============================] - 5s 3ms/step - loss: 0.4550 - accuracy: 0.8449\n",
            "Epoch 15/20\n",
            "1875/1875 [==============================] - 5s 3ms/step - loss: 0.4479 - accuracy: 0.8483\n",
            "Epoch 16/20\n",
            "1875/1875 [==============================] - 5s 3ms/step - loss: 0.4537 - accuracy: 0.8479\n",
            "Epoch 17/20\n",
            "1875/1875 [==============================] - 5s 3ms/step - loss: 0.4475 - accuracy: 0.8485\n",
            "Epoch 18/20\n",
            "1875/1875 [==============================] - 5s 3ms/step - loss: 0.4527 - accuracy: 0.8475\n",
            "Epoch 19/20\n",
            "1875/1875 [==============================] - 5s 3ms/step - loss: 0.4485 - accuracy: 0.8491\n",
            "Epoch 20/20\n",
            "1875/1875 [==============================] - 5s 3ms/step - loss: 0.4538 - accuracy: 0.8493\n"
          ]
        },
        {
          "output_type": "execute_result",
          "data": {
            "text/plain": [
              "<keras.callbacks.History at 0x7f24781025f0>"
            ]
          },
          "metadata": {},
          "execution_count": 8
        }
      ]
    },
    {
      "cell_type": "code",
      "source": [
        "model.evaluate(X_test,y_test)"
      ],
      "metadata": {
        "colab": {
          "base_uri": "https://localhost:8080/"
        },
        "id": "BfeUPpCKVZs-",
        "outputId": "a126e8fe-4dde-4691-b0ed-799e6ecfb031"
      },
      "execution_count": 9,
      "outputs": [
        {
          "output_type": "stream",
          "name": "stdout",
          "text": [
            "313/313 [==============================] - 1s 2ms/step - loss: 0.5705 - accuracy: 0.8301\n"
          ]
        },
        {
          "output_type": "execute_result",
          "data": {
            "text/plain": [
              "[0.5705231428146362, 0.8300999999046326]"
            ]
          },
          "metadata": {},
          "execution_count": 9
        }
      ]
    },
    {
      "cell_type": "markdown",
      "source": [
        "### Callbacks"
      ],
      "metadata": {
        "id": "bBLTXihiW_1_"
      }
    },
    {
      "cell_type": "markdown",
      "source": [
        "* Can define a callback function to be evoked at each epoch."
      ],
      "metadata": {
        "id": "abR3Z2gKXBYe"
      }
    },
    {
      "cell_type": "code",
      "source": [
        "class myCallback(tf.keras.callbacks.Callback):\n",
        "  def on_epoch_end(self, epoch, logs=None):\n",
        "    if logs.get('loss') < 0.43:\n",
        "      self.model.stop_training=True"
      ],
      "metadata": {
        "id": "DEvvfwZgXGg9"
      },
      "execution_count": null,
      "outputs": []
    },
    {
      "cell_type": "code",
      "source": [
        "callback = myCallback()\n",
        "\n",
        "model.fit(X_train,y_train,epochs=10, callbacks=[callback])"
      ],
      "metadata": {
        "colab": {
          "base_uri": "https://localhost:8080/"
        },
        "id": "yPcjNXk_Xoh4",
        "outputId": "368919e3-4a56-48dc-ebdb-f8994170e2ed"
      },
      "execution_count": null,
      "outputs": [
        {
          "output_type": "stream",
          "name": "stdout",
          "text": [
            "Epoch 1/10\n",
            "1875/1875 [==============================] - 7s 4ms/step - loss: 0.4250 - accuracy: 0.8594\n"
          ]
        },
        {
          "output_type": "execute_result",
          "data": {
            "text/plain": [
              "<keras.callbacks.History at 0x7a3eb0498550>"
            ]
          },
          "metadata": {},
          "execution_count": 43
        }
      ]
    },
    {
      "cell_type": "markdown",
      "source": [
        "## CNN"
      ],
      "metadata": {
        "id": "jiL8tE0BYA3R"
      }
    },
    {
      "cell_type": "code",
      "source": [
        "model = Sequential([\n",
        "    Conv2D(filters=64,kernel_size=3,activation='relu',input_shape=(28,28,1)),\n",
        "    MaxPooling2D(2,2),\n",
        "    Conv2D(filters=64,kernel_size=3,activation='relu'),\n",
        "    MaxPooling2D(2,2),\n",
        "    Flatten(),\n",
        "    Dense(units=128,activation='relu'),\n",
        "    Dense(units=10,activation='softmax')\n",
        "])"
      ],
      "metadata": {
        "id": "zCMhAp3gWwXY"
      },
      "execution_count": 10,
      "outputs": []
    },
    {
      "cell_type": "code",
      "source": [
        "model.summary()"
      ],
      "metadata": {
        "colab": {
          "base_uri": "https://localhost:8080/"
        },
        "id": "ZI4Md_voYlmL",
        "outputId": "cc3033a5-f066-4b96-be89-f17449e8546b"
      },
      "execution_count": 11,
      "outputs": [
        {
          "output_type": "stream",
          "name": "stdout",
          "text": [
            "Model: \"sequential_1\"\n",
            "_________________________________________________________________\n",
            " Layer (type)                Output Shape              Param #   \n",
            "=================================================================\n",
            " conv2d (Conv2D)             (None, 26, 26, 64)        640       \n",
            "                                                                 \n",
            " max_pooling2d (MaxPooling2D  (None, 13, 13, 64)       0         \n",
            " )                                                               \n",
            "                                                                 \n",
            " conv2d_1 (Conv2D)           (None, 11, 11, 64)        36928     \n",
            "                                                                 \n",
            " max_pooling2d_1 (MaxPooling  (None, 5, 5, 64)         0         \n",
            " 2D)                                                             \n",
            "                                                                 \n",
            " flatten_1 (Flatten)         (None, 1600)              0         \n",
            "                                                                 \n",
            " dense_2 (Dense)             (None, 128)               204928    \n",
            "                                                                 \n",
            " dense_3 (Dense)             (None, 10)                1290      \n",
            "                                                                 \n",
            "=================================================================\n",
            "Total params: 243,786\n",
            "Trainable params: 243,786\n",
            "Non-trainable params: 0\n",
            "_________________________________________________________________\n"
          ]
        }
      ]
    },
    {
      "cell_type": "code",
      "source": [
        "model.compile(optimizer=tf.keras.optimizers.Adam(),\n",
        "              loss='sparse_categorical_crossentropy',\n",
        "              metrics=['accuracy'])"
      ],
      "metadata": {
        "id": "2JblD38jYoTr"
      },
      "execution_count": 12,
      "outputs": []
    },
    {
      "cell_type": "code",
      "source": [
        "model.fit(X_train,y_train,epochs=20)"
      ],
      "metadata": {
        "colab": {
          "base_uri": "https://localhost:8080/"
        },
        "id": "e3lxHP6OakQP",
        "outputId": "75723c55-9e3f-41ba-c95b-780a13e33d01"
      },
      "execution_count": 13,
      "outputs": [
        {
          "output_type": "stream",
          "name": "stdout",
          "text": [
            "Epoch 1/20\n",
            "1875/1875 [==============================] - 13s 3ms/step - loss: 0.5786 - accuracy: 0.8261\n",
            "Epoch 2/20\n",
            "1875/1875 [==============================] - 7s 4ms/step - loss: 0.3367 - accuracy: 0.8754\n",
            "Epoch 3/20\n",
            "1875/1875 [==============================] - 7s 3ms/step - loss: 0.3003 - accuracy: 0.8878\n",
            "Epoch 4/20\n",
            "1875/1875 [==============================] - 7s 4ms/step - loss: 0.2720 - accuracy: 0.8975\n",
            "Epoch 5/20\n",
            "1875/1875 [==============================] - 7s 4ms/step - loss: 0.2526 - accuracy: 0.9043\n",
            "Epoch 6/20\n",
            "1875/1875 [==============================] - 7s 4ms/step - loss: 0.2379 - accuracy: 0.9100\n",
            "Epoch 7/20\n",
            "1875/1875 [==============================] - 7s 4ms/step - loss: 0.2193 - accuracy: 0.9176\n",
            "Epoch 8/20\n",
            "1875/1875 [==============================] - 6s 3ms/step - loss: 0.2063 - accuracy: 0.9204\n",
            "Epoch 9/20\n",
            "1875/1875 [==============================] - 7s 4ms/step - loss: 0.1950 - accuracy: 0.9268\n",
            "Epoch 10/20\n",
            "1875/1875 [==============================] - 6s 3ms/step - loss: 0.1844 - accuracy: 0.9306\n",
            "Epoch 11/20\n",
            "1875/1875 [==============================] - 7s 4ms/step - loss: 0.1690 - accuracy: 0.9366\n",
            "Epoch 12/20\n",
            "1875/1875 [==============================] - 6s 3ms/step - loss: 0.1672 - accuracy: 0.9371\n",
            "Epoch 13/20\n",
            "1875/1875 [==============================] - 7s 4ms/step - loss: 0.1576 - accuracy: 0.9414\n",
            "Epoch 14/20\n",
            "1875/1875 [==============================] - 7s 4ms/step - loss: 0.1508 - accuracy: 0.9433\n",
            "Epoch 15/20\n",
            "1875/1875 [==============================] - 7s 4ms/step - loss: 0.1421 - accuracy: 0.9467\n",
            "Epoch 16/20\n",
            "1875/1875 [==============================] - 8s 4ms/step - loss: 0.1426 - accuracy: 0.9476\n",
            "Epoch 17/20\n",
            "1875/1875 [==============================] - 7s 4ms/step - loss: 0.1357 - accuracy: 0.9503\n",
            "Epoch 18/20\n",
            "1875/1875 [==============================] - 7s 4ms/step - loss: 0.1329 - accuracy: 0.9515\n",
            "Epoch 19/20\n",
            "1875/1875 [==============================] - 6s 3ms/step - loss: 0.1253 - accuracy: 0.9539\n",
            "Epoch 20/20\n",
            "1875/1875 [==============================] - 7s 4ms/step - loss: 0.1251 - accuracy: 0.9553\n"
          ]
        },
        {
          "output_type": "execute_result",
          "data": {
            "text/plain": [
              "<keras.callbacks.History at 0x7f2470341450>"
            ]
          },
          "metadata": {},
          "execution_count": 13
        }
      ]
    },
    {
      "cell_type": "code",
      "source": [
        "model.evaluate(X_test,y_test)"
      ],
      "metadata": {
        "colab": {
          "base_uri": "https://localhost:8080/"
        },
        "id": "_YNGZKHfamxR",
        "outputId": "a7db8883-f4c8-4264-9c7f-7a69bfb212ed"
      },
      "execution_count": 14,
      "outputs": [
        {
          "output_type": "stream",
          "name": "stdout",
          "text": [
            "313/313 [==============================] - 1s 3ms/step - loss: 0.6087 - accuracy: 0.8921\n"
          ]
        },
        {
          "output_type": "execute_result",
          "data": {
            "text/plain": [
              "[0.6086759567260742, 0.8920999765396118]"
            ]
          },
          "metadata": {},
          "execution_count": 14
        }
      ]
    },
    {
      "cell_type": "code",
      "source": [],
      "metadata": {
        "id": "yxWJL8B0b90D"
      },
      "execution_count": null,
      "outputs": []
    }
  ]
}